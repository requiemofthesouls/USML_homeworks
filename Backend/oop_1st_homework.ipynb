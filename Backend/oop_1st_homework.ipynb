{
 "cells": [
  {
   "cell_type": "code",
   "execution_count": null,
   "metadata": {},
   "outputs": [],
   "source": [
    "from random import randint"
   ]
  },
  {
   "cell_type": "code",
   "execution_count": 1,
   "metadata": {},
   "outputs": [],
   "source": [
    "class Car(object):\n",
    "    \n",
    "    def __init__(self, max_speed, drag_coef, time_to_max):\n",
    "        self.max_speed = max_speed\n",
    "        self.drag_coef = drag_coef\n",
    "        self.time_to_max = time_to_max\n",
    "    \n",
    "    @property\n",
    "    def max_speed(self):\n",
    "        return self.__max_speed\n",
    "    \n",
    "    @max_speed.setter\n",
    "    def max_speed(self, max_speed):\n",
    "        if max_speed > 0:\n",
    "            self.__max_speed = max_speed\n",
    "    \n",
    "    @property\n",
    "    def drag_coef(self):\n",
    "        return self.__drag_coef\n",
    "    \n",
    "    @drag_coef.setter\n",
    "    def drag_coef(self, drag_coef):\n",
    "        self.__drag_coef = drag_coef\n",
    "        \n",
    "    @property\n",
    "    def time_to_max(self):\n",
    "        return self.__time_to_max\n",
    "    \n",
    "    @time_to_max.setter\n",
    "    def time_to_max(self, time_to_max):\n",
    "        self.__time_to_max = time_to_max"
   ]
  },
  {
   "cell_type": "code",
   "execution_count": null,
   "metadata": {},
   "outputs": [],
   "source": [
    "class Weather(object):\n",
    "    pass"
   ]
  },
  {
   "cell_type": "code",
   "execution_count": null,
   "metadata": {},
   "outputs": [],
   "source": [
    "class Competition(object):\n",
    "    pass"
   ]
  }
 ],
 "metadata": {
  "kernelspec": {
   "display_name": "Python 3",
   "language": "python",
   "name": "python3"
  },
  "language_info": {
   "codemirror_mode": {
    "name": "ipython",
    "version": 3
   },
   "file_extension": ".py",
   "mimetype": "text/x-python",
   "name": "python",
   "nbconvert_exporter": "python",
   "pygments_lexer": "ipython3",
   "version": "3.6.6"
  }
 },
 "nbformat": 4,
 "nbformat_minor": 2
}
