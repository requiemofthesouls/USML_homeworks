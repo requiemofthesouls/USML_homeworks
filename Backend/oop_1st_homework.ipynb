{
 "cells": [
  {
   "cell_type": "code",
   "execution_count": 3,
   "metadata": {},
   "outputs": [],
   "source": [
    "#!/usr/bin/python3\n",
    "from random import randint\n",
    "import sys\n",
    "\n",
    "CAR_SPECS = {\n",
    "    'ferrary': {\"max_speed\": 340, \"drag_coef\": 0.324, \"time_to_max\": 26},\n",
    "    'bugatti': {\"max_speed\": 407, \"drag_coef\": 0.39, \"time_to_max\": 32},\n",
    "    'toyota': {\"max_speed\": 180, \"drag_coef\": 0.25, \"time_to_max\": 40},\n",
    "    'lada': {\"max_speed\": 180, \"drag_coef\": 0.32, \"time_to_max\": 56},\n",
    "    'sx4': {\"max_speed\": 180, \"drag_coef\": 0.33, \"time_to_max\": 44},\n",
    "}"
   ]
  },
  {
   "cell_type": "code",
   "execution_count": 4,
   "metadata": {},
   "outputs": [],
   "source": [
    "class Car:\n",
    "    def __init__(self, model, specs):\n",
    "        self.__model = model\n",
    "        self.__specs = specs\n",
    "        self.__time = None\n",
    "        self.__distance = None\n",
    "\n",
    "    def get_model(self):\n",
    "        return self.__model\n",
    "\n",
    "    def get_specs(self):\n",
    "        return self.__specs\n",
    "\n",
    "    def get_result_time(self):\n",
    "        return self.__time\n",
    "\n",
    "    def get_result_distance(self):\n",
    "        return self.__distance\n",
    "\n",
    "    def set_result(self, time, distance):\n",
    "        self.__time = time\n",
    "        self.__distance = distance"
   ]
  },
  {
   "cell_type": "code",
   "execution_count": 5,
   "metadata": {},
   "outputs": [],
   "source": [
    "class Weather:\n",
    "    \"\"\" Можно попробовать применить шаблон Observer\n",
    "    Наблюдатель будет уведомлять о изменении погоды \"\"\"\n",
    "\n",
    "    def __init__(self, wind_speed=20):\n",
    "        self.__wind_speed = wind_speed\n",
    "\n",
    "    def get_wind_speed(self):\n",
    "        return randint(0, self.__wind_speed)"
   ]
  },
  {
   "cell_type": "code",
   "execution_count": 6,
   "metadata": {},
   "outputs": [],
   "source": [
    "class Competition:  # Singleton and chain of responsobillity patterns\n",
    "    instance = None\n",
    "\n",
    "    def __new__(cls, arg):\n",
    "        if cls.instance is None:\n",
    "            cls.instance = super(Competition, cls).__new__(cls)\n",
    "        return cls.instance\n",
    "\n",
    "    def __init__(self, distance=10000):\n",
    "        self.__distance = distance\n",
    "\n",
    "    def start(self, competitors, weather):\n",
    "        for competitor_name in competitors:\n",
    "            competitor_time = 0\n",
    "            car = competitor_name.get_specs()\n",
    "\n",
    "            for distance in range(self.__distance):\n",
    "                _wind_speed = weather.get_wind_speed()\n",
    "\n",
    "                if competitor_time == 0:\n",
    "                    _speed = 1\n",
    "                else:\n",
    "                    _speed = (competitor_time /\n",
    "                              car[\"time_to_max\"]) * car['max_speed']\n",
    "                    if _speed > _wind_speed:\n",
    "                        _speed -= (car['drag_coef'] * _wind_speed)\n",
    "\n",
    "                competitor_time += float(1) / _speed\n",
    "            if competitor_name.get_result_time():\n",
    "                print(f'Car <{competitor_name.get_model()}> previous result: {competitor_name.get_result_time()}, distance {competitor_name.get_result_distance()}m')\n",
    "                competitor_name.set_result(competitor_time, self.__distance)\n",
    "            else:\n",
    "                competitor_name.set_result(competitor_time, self.__distance)\n",
    "            print(f'Car <{competitor_name.get_model()}> result: {competitor_time}, distance {self.__distance}m')\n"
   ]
  },
  {
   "cell_type": "code",
   "execution_count": 7,
   "metadata": {},
   "outputs": [],
   "source": [
    "class CompetitionGiver:\n",
    "    \"\"\" Цепочка обязанностей \"\"\"\n",
    "\n",
    "    def __init__(self):\n",
    "        super(CompetitionGiver, self).__init__()\n",
    "        self.__competitors = []\n",
    "\n",
    "    def add_competitors(self, competitor):\n",
    "        self.__competitors.append(competitor)\n",
    "\n",
    "    def get_competitors(self):\n",
    "        return self.__competitors\n",
    "\n",
    "    def handle_competition(self):\n",
    "        competition.start(self.get_competitors(), weather)"
   ]
  },
  {
   "cell_type": "code",
   "execution_count": 8,
   "metadata": {},
   "outputs": [
    {
     "name": "stdout",
     "output_type": "stream",
     "text": [
      "Car <ferrary> result: 39.37190929639459, distance 10000m\n",
      "Car <bugatti> result: 39.973094334984864, distance 10000m\n",
      "Car <toyota> result: 67.21335901778242, distance 10000m\n",
      "Car <lada> result: 79.85459249932805, distance 10000m\n",
      "Car <sx4> result: 70.70705342523013, distance 10000m\n",
      "None\n"
     ]
    }
   ],
   "source": [
    "competition = Competition(10000)\n",
    "weather = Weather()\n",
    "\n",
    "ferrary = Car('ferrary', CAR_SPECS['ferrary'])\n",
    "bugatti = Car('bugatti', CAR_SPECS['bugatti'])\n",
    "toyota = Car('toyota', CAR_SPECS['toyota'])\n",
    "lada = Car('lada', CAR_SPECS['lada'])\n",
    "sx4 = Car('sx4', CAR_SPECS['sx4'])\n",
    "\n",
    "\n",
    "competitors = (ferrary, bugatti, toyota, lada, sx4)\n",
    "competition_giver = CompetitionGiver()\n",
    "\n",
    "for competitor in competitors:\n",
    "    competition_giver.add_competitors(competitor)\n",
    "\n",
    "print(competition_giver.handle_competition())"
   ]
  },
  {
   "cell_type": "code",
   "execution_count": 9,
   "metadata": {},
   "outputs": [
    {
     "name": "stdout",
     "output_type": "stream",
     "text": [
      "Car <ferrary> previous result: 39.37190929639459, distance 10000m\n",
      "Car <ferrary> result: 27.910997603596847, distance 5000m\n",
      "Car <bugatti> previous result: 39.973094334984864, distance 10000m\n",
      "Car <bugatti> result: 28.357317483905216, distance 5000m\n",
      "Car <toyota> previous result: 67.21335901778242, distance 10000m\n",
      "Car <toyota> result: 47.70310206081273, distance 5000m\n",
      "Car <lada> previous result: 79.85459249932805, distance 10000m\n",
      "Car <lada> result: 56.74060978518033, distance 5000m\n",
      "Car <sx4> previous result: 70.70705342523013, distance 10000m\n",
      "Car <sx4> result: 50.229154672650424, distance 5000m\n",
      "None\n"
     ]
    }
   ],
   "source": [
    "competition = Competition(5000)\n",
    "print(competition_giver.handle_competition())"
   ]
  },
  {
   "cell_type": "code",
   "execution_count": null,
   "metadata": {},
   "outputs": [],
   "source": []
  }
 ],
 "metadata": {
  "kernelspec": {
   "display_name": "Python 3",
   "language": "python",
   "name": "python3"
  },
  "language_info": {
   "codemirror_mode": {
    "name": "ipython",
    "version": 3
   },
   "file_extension": ".py",
   "mimetype": "text/x-python",
   "name": "python",
   "nbconvert_exporter": "python",
   "pygments_lexer": "ipython3",
   "version": "3.6.6"
  }
 },
 "nbformat": 4,
 "nbformat_minor": 2
}
