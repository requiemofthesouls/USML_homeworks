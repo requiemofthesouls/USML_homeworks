{
 "cells": [
  {
   "cell_type": "markdown",
   "metadata": {},
   "source": [
    "<center>\n",
    "<img src=\"../../../mlcourse.ai/img/ods_stickers.jpg\">\n",
    "## Открытый курс по машинному обучению\n",
    "<center>\n",
    "Автор материала: Юрий Кашницкий, программист-исследователь Mail.Ru Group <br> \n",
    "\n",
    "Материал распространяется на условиях лицензии [Creative Commons CC BY-NC-SA 4.0](https://creativecommons.org/licenses/by-nc-sa/4.0/). Можно использовать в любых целях (редактировать, поправлять и брать за основу), кроме коммерческих, но с обязательным упоминанием автора материала."
   ]
  },
  {
   "cell_type": "markdown",
   "metadata": {},
   "source": [
    "# <center>Домашнее задание 6 (демо). Линейная регрессия, Lasso и RF-регрессия в задаче по определению качества вина</center>\n",
    "<img src='../../../mlcourse.ai/img/wine_quality.jpg' width=30%>\n",
    "\n",
    "**Заполните пропущенный код и ответьте на вопросы в [онлайн-форме](https://docs.google.com/forms/d/1gsNxgkd0VqidZp4lh9mnCQnJw3b0IFR1C4WBES86J40).**"
   ]
  },
  {
   "cell_type": "code",
   "execution_count": 151,
   "metadata": {},
   "outputs": [],
   "source": [
    "# отключим всякие предупреждения Anaconda\n",
    "import warnings\n",
    "warnings.filterwarnings('ignore')\n",
    "import numpy as np\n",
    "import pandas as pd\n",
    "from sklearn.metrics.regression import mean_squared_error as mse\n",
    "from sklearn.preprocessing import StandardScaler\n",
    "from sklearn.model_selection import GridSearchCV\n",
    "from sklearn.model_selection import cross_val_score, train_test_split\n",
    "from sklearn.linear_model import LinearRegression, LassoCV, Lasso\n",
    "from sklearn.ensemble import RandomForestRegressor"
   ]
  },
  {
   "cell_type": "markdown",
   "metadata": {},
   "source": [
    "**Будем работать с набором данных по качеству белого вина (репозиторий UCI).**\n",
    "**Загружаем данные.**"
   ]
  },
  {
   "cell_type": "code",
   "execution_count": 2,
   "metadata": {},
   "outputs": [],
   "source": [
    "data = pd.read_csv('../../../mlcourse.ai/data/winequality-white.csv', sep=';')"
   ]
  },
  {
   "cell_type": "code",
   "execution_count": 3,
   "metadata": {},
   "outputs": [
    {
     "data": {
      "text/html": [
       "<div>\n",
       "<style scoped>\n",
       "    .dataframe tbody tr th:only-of-type {\n",
       "        vertical-align: middle;\n",
       "    }\n",
       "\n",
       "    .dataframe tbody tr th {\n",
       "        vertical-align: top;\n",
       "    }\n",
       "\n",
       "    .dataframe thead th {\n",
       "        text-align: right;\n",
       "    }\n",
       "</style>\n",
       "<table border=\"1\" class=\"dataframe\">\n",
       "  <thead>\n",
       "    <tr style=\"text-align: right;\">\n",
       "      <th></th>\n",
       "      <th>2894</th>\n",
       "      <th>1201</th>\n",
       "      <th>965</th>\n",
       "      <th>2504</th>\n",
       "      <th>2983</th>\n",
       "      <th>3345</th>\n",
       "      <th>896</th>\n",
       "      <th>12</th>\n",
       "      <th>1125</th>\n",
       "      <th>4249</th>\n",
       "    </tr>\n",
       "  </thead>\n",
       "  <tbody>\n",
       "    <tr>\n",
       "      <th>fixed acidity</th>\n",
       "      <td>6.40000</td>\n",
       "      <td>7.0000</td>\n",
       "      <td>8.3000</td>\n",
       "      <td>8.50000</td>\n",
       "      <td>6.00000</td>\n",
       "      <td>6.8000</td>\n",
       "      <td>6.8000</td>\n",
       "      <td>7.900</td>\n",
       "      <td>6.3000</td>\n",
       "      <td>5.50000</td>\n",
       "    </tr>\n",
       "    <tr>\n",
       "      <th>volatile acidity</th>\n",
       "      <td>0.12500</td>\n",
       "      <td>0.1700</td>\n",
       "      <td>0.2300</td>\n",
       "      <td>0.30000</td>\n",
       "      <td>0.26000</td>\n",
       "      <td>0.1800</td>\n",
       "      <td>0.1800</td>\n",
       "      <td>0.180</td>\n",
       "      <td>0.5500</td>\n",
       "      <td>0.23000</td>\n",
       "    </tr>\n",
       "    <tr>\n",
       "      <th>citric acid</th>\n",
       "      <td>0.36000</td>\n",
       "      <td>0.3700</td>\n",
       "      <td>0.4300</td>\n",
       "      <td>0.28000</td>\n",
       "      <td>0.32000</td>\n",
       "      <td>0.2400</td>\n",
       "      <td>0.2800</td>\n",
       "      <td>0.370</td>\n",
       "      <td>0.4500</td>\n",
       "      <td>0.19000</td>\n",
       "    </tr>\n",
       "    <tr>\n",
       "      <th>residual sugar</th>\n",
       "      <td>1.40000</td>\n",
       "      <td>1.5000</td>\n",
       "      <td>3.2000</td>\n",
       "      <td>3.10000</td>\n",
       "      <td>3.80000</td>\n",
       "      <td>9.8000</td>\n",
       "      <td>8.7000</td>\n",
       "      <td>1.200</td>\n",
       "      <td>13.0000</td>\n",
       "      <td>2.20000</td>\n",
       "    </tr>\n",
       "    <tr>\n",
       "      <th>chlorides</th>\n",
       "      <td>0.04400</td>\n",
       "      <td>0.0280</td>\n",
       "      <td>0.0350</td>\n",
       "      <td>0.05400</td>\n",
       "      <td>0.02900</td>\n",
       "      <td>0.0580</td>\n",
       "      <td>0.0470</td>\n",
       "      <td>0.040</td>\n",
       "      <td>0.0470</td>\n",
       "      <td>0.04400</td>\n",
       "    </tr>\n",
       "    <tr>\n",
       "      <th>free sulfur dioxide</th>\n",
       "      <td>22.00000</td>\n",
       "      <td>26.0000</td>\n",
       "      <td>14.0000</td>\n",
       "      <td>54.00000</td>\n",
       "      <td>48.00000</td>\n",
       "      <td>64.0000</td>\n",
       "      <td>52.0000</td>\n",
       "      <td>16.000</td>\n",
       "      <td>33.0000</td>\n",
       "      <td>39.00000</td>\n",
       "    </tr>\n",
       "    <tr>\n",
       "      <th>total sulfur dioxide</th>\n",
       "      <td>68.00000</td>\n",
       "      <td>75.0000</td>\n",
       "      <td>101.0000</td>\n",
       "      <td>174.00000</td>\n",
       "      <td>180.00000</td>\n",
       "      <td>188.0000</td>\n",
       "      <td>242.0000</td>\n",
       "      <td>75.000</td>\n",
       "      <td>182.0000</td>\n",
       "      <td>161.00000</td>\n",
       "    </tr>\n",
       "    <tr>\n",
       "      <th>density</th>\n",
       "      <td>0.99014</td>\n",
       "      <td>0.9922</td>\n",
       "      <td>0.9928</td>\n",
       "      <td>0.99543</td>\n",
       "      <td>0.99011</td>\n",
       "      <td>0.9952</td>\n",
       "      <td>0.9952</td>\n",
       "      <td>0.992</td>\n",
       "      <td>0.9974</td>\n",
       "      <td>0.99209</td>\n",
       "    </tr>\n",
       "    <tr>\n",
       "      <th>pH</th>\n",
       "      <td>3.15000</td>\n",
       "      <td>3.3000</td>\n",
       "      <td>3.1500</td>\n",
       "      <td>3.21000</td>\n",
       "      <td>3.15000</td>\n",
       "      <td>3.1300</td>\n",
       "      <td>3.2200</td>\n",
       "      <td>3.180</td>\n",
       "      <td>3.2000</td>\n",
       "      <td>3.19000</td>\n",
       "    </tr>\n",
       "    <tr>\n",
       "      <th>sulphates</th>\n",
       "      <td>0.50000</td>\n",
       "      <td>0.4600</td>\n",
       "      <td>0.3600</td>\n",
       "      <td>0.43000</td>\n",
       "      <td>0.34000</td>\n",
       "      <td>0.5100</td>\n",
       "      <td>0.5300</td>\n",
       "      <td>0.630</td>\n",
       "      <td>0.4600</td>\n",
       "      <td>0.43000</td>\n",
       "    </tr>\n",
       "    <tr>\n",
       "      <th>alcohol</th>\n",
       "      <td>11.70000</td>\n",
       "      <td>10.8000</td>\n",
       "      <td>11.5000</td>\n",
       "      <td>9.40000</td>\n",
       "      <td>12.00000</td>\n",
       "      <td>10.6000</td>\n",
       "      <td>10.5000</td>\n",
       "      <td>10.800</td>\n",
       "      <td>9.2000</td>\n",
       "      <td>10.40000</td>\n",
       "    </tr>\n",
       "    <tr>\n",
       "      <th>quality</th>\n",
       "      <td>7.00000</td>\n",
       "      <td>7.0000</td>\n",
       "      <td>5.0000</td>\n",
       "      <td>6.00000</td>\n",
       "      <td>6.00000</td>\n",
       "      <td>6.0000</td>\n",
       "      <td>6.0000</td>\n",
       "      <td>5.000</td>\n",
       "      <td>6.0000</td>\n",
       "      <td>6.00000</td>\n",
       "    </tr>\n",
       "  </tbody>\n",
       "</table>\n",
       "</div>"
      ],
      "text/plain": [
       "                          2894     1201      965        2504       2983  \\\n",
       "fixed acidity          6.40000   7.0000    8.3000    8.50000    6.00000   \n",
       "volatile acidity       0.12500   0.1700    0.2300    0.30000    0.26000   \n",
       "citric acid            0.36000   0.3700    0.4300    0.28000    0.32000   \n",
       "residual sugar         1.40000   1.5000    3.2000    3.10000    3.80000   \n",
       "chlorides              0.04400   0.0280    0.0350    0.05400    0.02900   \n",
       "free sulfur dioxide   22.00000  26.0000   14.0000   54.00000   48.00000   \n",
       "total sulfur dioxide  68.00000  75.0000  101.0000  174.00000  180.00000   \n",
       "density                0.99014   0.9922    0.9928    0.99543    0.99011   \n",
       "pH                     3.15000   3.3000    3.1500    3.21000    3.15000   \n",
       "sulphates              0.50000   0.4600    0.3600    0.43000    0.34000   \n",
       "alcohol               11.70000  10.8000   11.5000    9.40000   12.00000   \n",
       "quality                7.00000   7.0000    5.0000    6.00000    6.00000   \n",
       "\n",
       "                          3345      896     12        1125       4249  \n",
       "fixed acidity           6.8000    6.8000   7.900    6.3000    5.50000  \n",
       "volatile acidity        0.1800    0.1800   0.180    0.5500    0.23000  \n",
       "citric acid             0.2400    0.2800   0.370    0.4500    0.19000  \n",
       "residual sugar          9.8000    8.7000   1.200   13.0000    2.20000  \n",
       "chlorides               0.0580    0.0470   0.040    0.0470    0.04400  \n",
       "free sulfur dioxide    64.0000   52.0000  16.000   33.0000   39.00000  \n",
       "total sulfur dioxide  188.0000  242.0000  75.000  182.0000  161.00000  \n",
       "density                 0.9952    0.9952   0.992    0.9974    0.99209  \n",
       "pH                      3.1300    3.2200   3.180    3.2000    3.19000  \n",
       "sulphates               0.5100    0.5300   0.630    0.4600    0.43000  \n",
       "alcohol                10.6000   10.5000  10.800    9.2000   10.40000  \n",
       "quality                 6.0000    6.0000   5.000    6.0000    6.00000  "
      ]
     },
     "execution_count": 3,
     "metadata": {},
     "output_type": "execute_result"
    }
   ],
   "source": [
    "data.sample(10).T"
   ]
  },
  {
   "cell_type": "code",
   "execution_count": 4,
   "metadata": {},
   "outputs": [
    {
     "name": "stdout",
     "output_type": "stream",
     "text": [
      "<class 'pandas.core.frame.DataFrame'>\n",
      "RangeIndex: 4898 entries, 0 to 4897\n",
      "Data columns (total 12 columns):\n",
      "fixed acidity           4898 non-null float64\n",
      "volatile acidity        4898 non-null float64\n",
      "citric acid             4898 non-null float64\n",
      "residual sugar          4898 non-null float64\n",
      "chlorides               4898 non-null float64\n",
      "free sulfur dioxide     4898 non-null float64\n",
      "total sulfur dioxide    4898 non-null float64\n",
      "density                 4898 non-null float64\n",
      "pH                      4898 non-null float64\n",
      "sulphates               4898 non-null float64\n",
      "alcohol                 4898 non-null float64\n",
      "quality                 4898 non-null int64\n",
      "dtypes: float64(11), int64(1)\n",
      "memory usage: 459.3 KB\n"
     ]
    }
   ],
   "source": [
    "data.info()"
   ]
  },
  {
   "cell_type": "markdown",
   "metadata": {},
   "source": [
    "**Отделите целевой признак, разделите обучающую выборку в отношении 7:3 (30% - под оставленную выборку, пусть random_state=17) и отмасштабируйте данные с помощью StandardScaler.**"
   ]
  },
  {
   "cell_type": "code",
   "execution_count": 113,
   "metadata": {},
   "outputs": [],
   "source": [
    "y = data.quality\n",
    "X = data.drop('quality', axis=1)\n",
    "\n",
    "X_train, X_valid, y_train, y_valid = train_test_split(X, y, test_size=0.3, random_state=17)\n",
    "\n",
    "scaler = StandardScaler()\n",
    "X_train_scaled = scaler.fit_transform(X_train)\n",
    "X_valid_scaled = scaler.transform(X_valid)"
   ]
  },
  {
   "cell_type": "code",
   "execution_count": 95,
   "metadata": {},
   "outputs": [
    {
     "data": {
      "text/plain": [
       "((4898, 11), (4898,), (3428, 11), (1470, 11), (3428,), (1470,))"
      ]
     },
     "execution_count": 95,
     "metadata": {},
     "output_type": "execute_result"
    }
   ],
   "source": [
    "X.shape, y.shape, X_train.shape, X_valid.shape, y_train.shape, y_valid.shape"
   ]
  },
  {
   "cell_type": "markdown",
   "metadata": {},
   "source": [
    "## Линейная регрессия"
   ]
  },
  {
   "cell_type": "markdown",
   "metadata": {},
   "source": [
    "**Обучите простую линейную регрессию.**"
   ]
  },
  {
   "cell_type": "code",
   "execution_count": 96,
   "metadata": {},
   "outputs": [
    {
     "data": {
      "text/plain": [
       "LinearRegression(copy_X=True, fit_intercept=True, n_jobs=8, normalize=False)"
      ]
     },
     "execution_count": 96,
     "metadata": {},
     "output_type": "execute_result"
    }
   ],
   "source": [
    "linreg = LinearRegression(n_jobs=8)\n",
    "linreg.fit(X_train, y_train)"
   ]
  },
  {
   "cell_type": "markdown",
   "metadata": {},
   "source": [
    "**<font color='red'>Вопрос 1:</font> Каковы среднеквадратичные ошибки линейной регрессии на обучающей и отложенной выборках?**"
   ]
  },
  {
   "cell_type": "code",
   "execution_count": 8,
   "metadata": {},
   "outputs": [
    {
     "name": "stdout",
     "output_type": "stream",
     "text": [
      "Mean squared error (train): 0.558\n",
      "Mean squared error (test): 0.584\n"
     ]
    }
   ],
   "source": [
    "print(\"Mean squared error (train): %.3f\" % mse(y_train, linreg.predict(X_train)))\n",
    "print(\"Mean squared error (test): %.3f\" % mse(y_valid, linreg.predict(X_valid)))"
   ]
  },
  {
   "cell_type": "markdown",
   "metadata": {},
   "source": [
    "**Посмотрите на коэффициенты модели и отранжируйте признаки по влиянию на качество вина (учтите, что большие по модулю отрицательные значения коэффициентов тоже говорят о сильном влиянии). Создайте для этого новый небольшой DataFrame.**<br>\n",
    "**<font color='red'>Вопрос 2:</font> Какой признак линейная регрессия считает наиболее сильно влияющим на качество вина?**  \n",
    "**<i> 7 </i>**"
   ]
  },
  {
   "cell_type": "code",
   "execution_count": 33,
   "metadata": {},
   "outputs": [
    {
     "name": "stdout",
     "output_type": "stream",
     "text": [
      "0 fixed acidity\n",
      "1 volatile acidity\n",
      "2 citric acid\n",
      "3 residual sugar\n",
      "4 chlorides\n",
      "5 free sulfur dioxide\n",
      "6 total sulfur dioxide\n",
      "7 density\n",
      "8 pH\n",
      "9 sulphates\n",
      "10 alcohol\n"
     ]
    }
   ],
   "source": [
    "for i, col in enumerate(X_train.columns):\n",
    "    print(i, col)"
   ]
  },
  {
   "cell_type": "code",
   "execution_count": 45,
   "metadata": {},
   "outputs": [
    {
     "data": {
      "text/html": [
       "<div>\n",
       "<style scoped>\n",
       "    .dataframe tbody tr th:only-of-type {\n",
       "        vertical-align: middle;\n",
       "    }\n",
       "\n",
       "    .dataframe tbody tr th {\n",
       "        vertical-align: top;\n",
       "    }\n",
       "\n",
       "    .dataframe thead th {\n",
       "        text-align: right;\n",
       "    }\n",
       "</style>\n",
       "<table border=\"1\" class=\"dataframe\">\n",
       "  <thead>\n",
       "    <tr style=\"text-align: right;\">\n",
       "      <th></th>\n",
       "      <th>7</th>\n",
       "      <th>1</th>\n",
       "      <th>2</th>\n",
       "      <th>6</th>\n",
       "      <th>5</th>\n",
       "      <th>10</th>\n",
       "      <th>3</th>\n",
       "      <th>0</th>\n",
       "      <th>4</th>\n",
       "      <th>9</th>\n",
       "      <th>8</th>\n",
       "    </tr>\n",
       "  </thead>\n",
       "  <tbody>\n",
       "    <tr>\n",
       "      <th>0</th>\n",
       "      <td>-227.551202</td>\n",
       "      <td>-1.886874</td>\n",
       "      <td>-0.001485</td>\n",
       "      <td>0.000333</td>\n",
       "      <td>0.002439</td>\n",
       "      <td>0.105264</td>\n",
       "      <td>0.108183</td>\n",
       "      <td>0.113731</td>\n",
       "      <td>0.352051</td>\n",
       "      <td>0.552495</td>\n",
       "      <td>0.99583</td>\n",
       "    </tr>\n",
       "  </tbody>\n",
       "</table>\n",
       "</div>"
      ],
      "text/plain": [
       "           7         1         2         6         5         10        3   \\\n",
       "0 -227.551202 -1.886874 -0.001485  0.000333  0.002439  0.105264  0.108183   \n",
       "\n",
       "         0         4         9        8   \n",
       "0  0.113731  0.352051  0.552495  0.99583  "
      ]
     },
     "execution_count": 45,
     "metadata": {},
     "output_type": "execute_result"
    }
   ],
   "source": [
    "linreg_coef = pd.DataFrame(linreg.coef_)\n",
    "linreg_coef.sort_values(by=0).T"
   ]
  },
  {
   "cell_type": "markdown",
   "metadata": {},
   "source": [
    "## Lasso-регрессия"
   ]
  },
  {
   "cell_type": "markdown",
   "metadata": {},
   "source": [
    "**Обучите Lasso-регрессию с небольшим коэффициентом $\\alpha = 0.01$ (слабая регуляризация). Пусть опять random_state=17.**"
   ]
  },
  {
   "cell_type": "code",
   "execution_count": 97,
   "metadata": {},
   "outputs": [
    {
     "data": {
      "text/plain": [
       "Lasso(alpha=0.01, copy_X=True, fit_intercept=True, max_iter=1000,\n",
       "   normalize=False, positive=False, precompute=False, random_state=17,\n",
       "   selection='cyclic', tol=0.0001, warm_start=False)"
      ]
     },
     "execution_count": 97,
     "metadata": {},
     "output_type": "execute_result"
    }
   ],
   "source": [
    "lasso1 = Lasso(alpha=0.01, random_state=17)\n",
    "lasso1.fit(X_train, y_train)"
   ]
  },
  {
   "cell_type": "markdown",
   "metadata": {},
   "source": [
    "**Посмотрите на коэффициенты модели и отранжируйте признаки по влиянию на качество вина. Какой признак \"отвалился\" первым, то есть наименее важен для объяснения целевого признака в модели Lasso?**  \n",
    "<i>2 - citric acid</i>"
   ]
  },
  {
   "cell_type": "code",
   "execution_count": 98,
   "metadata": {},
   "outputs": [
    {
     "data": {
      "text/html": [
       "<div>\n",
       "<style scoped>\n",
       "    .dataframe tbody tr th:only-of-type {\n",
       "        vertical-align: middle;\n",
       "    }\n",
       "\n",
       "    .dataframe tbody tr th {\n",
       "        vertical-align: top;\n",
       "    }\n",
       "\n",
       "    .dataframe thead th {\n",
       "        text-align: right;\n",
       "    }\n",
       "</style>\n",
       "<table border=\"1\" class=\"dataframe\">\n",
       "  <thead>\n",
       "    <tr style=\"text-align: right;\">\n",
       "      <th></th>\n",
       "      <th>1</th>\n",
       "      <th>0</th>\n",
       "      <th>6</th>\n",
       "      <th>2</th>\n",
       "      <th>4</th>\n",
       "      <th>7</th>\n",
       "      <th>8</th>\n",
       "      <th>9</th>\n",
       "      <th>5</th>\n",
       "      <th>3</th>\n",
       "      <th>10</th>\n",
       "    </tr>\n",
       "  </thead>\n",
       "  <tbody>\n",
       "    <tr>\n",
       "      <th>0</th>\n",
       "      <td>-0.967909</td>\n",
       "      <td>-0.05977</td>\n",
       "      <td>-0.001108</td>\n",
       "      <td>0.0</td>\n",
       "      <td>-0.0</td>\n",
       "      <td>-0.0</td>\n",
       "      <td>0.0</td>\n",
       "      <td>0.0</td>\n",
       "      <td>0.005223</td>\n",
       "      <td>0.022231</td>\n",
       "      <td>0.352083</td>\n",
       "    </tr>\n",
       "  </tbody>\n",
       "</table>\n",
       "</div>"
      ],
      "text/plain": [
       "         1        0         6    2    4    7    8    9         5         3   \\\n",
       "0 -0.967909 -0.05977 -0.001108  0.0 -0.0 -0.0  0.0  0.0  0.005223  0.022231   \n",
       "\n",
       "         10  \n",
       "0  0.352083  "
      ]
     },
     "execution_count": 98,
     "metadata": {},
     "output_type": "execute_result"
    }
   ],
   "source": [
    "lasso1_coef = pd.DataFrame(lasso1.coef_)\n",
    "lasso1_coef.sort_values(by=0).T"
   ]
  },
  {
   "cell_type": "markdown",
   "metadata": {},
   "source": [
    "**Теперь определите лучшее значение $\\alpha$ в процессе кросс-валидации 5-кратной кросс-валидации. Используйте LassoCV и random_state=17.**"
   ]
  },
  {
   "cell_type": "code",
   "execution_count": 99,
   "metadata": {},
   "outputs": [
    {
     "data": {
      "text/plain": [
       "LassoCV(alphas=array([1.00000e-06, 1.09699e-06, ..., 9.11589e+01, 1.00000e+02]),\n",
       "    copy_X=True, cv=5, eps=0.001, fit_intercept=True, max_iter=1000,\n",
       "    n_alphas=100, n_jobs=None, normalize=False, positive=False,\n",
       "    precompute='auto', random_state=17, selection='cyclic', tol=0.0001,\n",
       "    verbose=False)"
      ]
     },
     "execution_count": 99,
     "metadata": {},
     "output_type": "execute_result"
    }
   ],
   "source": [
    "alphas = np.logspace(-6, 2, 200)\n",
    "lasso_cv = LassoCV(alphas=alphas, cv=5, random_state=17)\n",
    "lasso_cv.fit(X_train, y_train)"
   ]
  },
  {
   "cell_type": "code",
   "execution_count": 100,
   "metadata": {},
   "outputs": [
    {
     "data": {
      "text/plain": [
       "1e-06"
      ]
     },
     "execution_count": 100,
     "metadata": {},
     "output_type": "execute_result"
    }
   ],
   "source": [
    "lasso_cv.alpha_ # 0.000001"
   ]
  },
  {
   "cell_type": "markdown",
   "metadata": {},
   "source": [
    "**Выведите коэффициенты \"лучшего\" Lasso в порядке убывания влияния на качество вина. **<br>\n",
    "**<font color='red'>Вопрос 3:</font> Какой признак \"обнулился первым\" в настроенной модели LASSO?**  \n",
    "2 - citric acid"
   ]
  },
  {
   "cell_type": "code",
   "execution_count": 101,
   "metadata": {},
   "outputs": [
    {
     "data": {
      "text/html": [
       "<div>\n",
       "<style scoped>\n",
       "    .dataframe tbody tr th:only-of-type {\n",
       "        vertical-align: middle;\n",
       "    }\n",
       "\n",
       "    .dataframe tbody tr th {\n",
       "        vertical-align: top;\n",
       "    }\n",
       "\n",
       "    .dataframe thead th {\n",
       "        text-align: right;\n",
       "    }\n",
       "</style>\n",
       "<table border=\"1\" class=\"dataframe\">\n",
       "  <thead>\n",
       "    <tr style=\"text-align: right;\">\n",
       "      <th></th>\n",
       "      <th>7</th>\n",
       "      <th>1</th>\n",
       "      <th>2</th>\n",
       "      <th>6</th>\n",
       "      <th>5</th>\n",
       "      <th>3</th>\n",
       "      <th>0</th>\n",
       "      <th>10</th>\n",
       "      <th>4</th>\n",
       "      <th>9</th>\n",
       "      <th>8</th>\n",
       "    </tr>\n",
       "  </thead>\n",
       "  <tbody>\n",
       "    <tr>\n",
       "      <th>0</th>\n",
       "      <td>-223.055887</td>\n",
       "      <td>-1.888451</td>\n",
       "      <td>-0.002444</td>\n",
       "      <td>0.000314</td>\n",
       "      <td>0.002466</td>\n",
       "      <td>0.106579</td>\n",
       "      <td>0.110345</td>\n",
       "      <td>0.11044</td>\n",
       "      <td>0.331071</td>\n",
       "      <td>0.546349</td>\n",
       "      <td>0.981016</td>\n",
       "    </tr>\n",
       "  </tbody>\n",
       "</table>\n",
       "</div>"
      ],
      "text/plain": [
       "           7         1         2         6         5         3         0   \\\n",
       "0 -223.055887 -1.888451 -0.002444  0.000314  0.002466  0.106579  0.110345   \n",
       "\n",
       "        10        4         9         8   \n",
       "0  0.11044  0.331071  0.546349  0.981016  "
      ]
     },
     "execution_count": 101,
     "metadata": {},
     "output_type": "execute_result"
    }
   ],
   "source": [
    "lasso_cv_coef = pd.DataFrame(lasso_cv.coef_)\n",
    "lasso_cv_coef.sort_values(by=0).T"
   ]
  },
  {
   "cell_type": "markdown",
   "metadata": {},
   "source": [
    "**Оцените среднеквадратичную ошибку модели на обучающей и тестовой выборках.**<br>\n",
    "**<font color='red'>Вопрос 4:</font> Каковы среднеквадратичные ошибки настроенной LASSO-регрессии на обучающей и отложенной выборках?**"
   ]
  },
  {
   "cell_type": "code",
   "execution_count": 102,
   "metadata": {},
   "outputs": [
    {
     "name": "stdout",
     "output_type": "stream",
     "text": [
      "Mean squared error (train): 0.583\n",
      "Mean squared error (test): 0.588\n"
     ]
    }
   ],
   "source": [
    "print(\"Mean squared error (train): %.3f\" % mse(y_train, lasso1.predict(X_train)))\n",
    "print(\"Mean squared error (test): %.3f\" % mse(y_valid, lasso1.predict(X_valid)))"
   ]
  },
  {
   "cell_type": "markdown",
   "metadata": {},
   "source": [
    "## Случайный лес"
   ]
  },
  {
   "cell_type": "markdown",
   "metadata": {},
   "source": [
    "**Обучите случайный лес с параметрами \"из коробки\", фиксируя только random_state=17.**"
   ]
  },
  {
   "cell_type": "code",
   "execution_count": 105,
   "metadata": {},
   "outputs": [
    {
     "data": {
      "text/plain": [
       "RandomForestRegressor(bootstrap=True, criterion='mse', max_depth=None,\n",
       "           max_features='auto', max_leaf_nodes=None,\n",
       "           min_impurity_decrease=0.0, min_impurity_split=None,\n",
       "           min_samples_leaf=1, min_samples_split=2,\n",
       "           min_weight_fraction_leaf=0.0, n_estimators=10, n_jobs=None,\n",
       "           oob_score=False, random_state=17, verbose=0, warm_start=False)"
      ]
     },
     "execution_count": 105,
     "metadata": {},
     "output_type": "execute_result"
    }
   ],
   "source": [
    "forest = RandomForestRegressor(random_state=17)\n",
    "forest.fit(X_train, y_train)"
   ]
  },
  {
   "cell_type": "markdown",
   "metadata": {},
   "source": [
    "**<font color='red'>Вопрос 5:</font> Каковы среднеквадратичные ошибки случайного леса на обучающей выборке, на кросс-валидации (cross_val_score с scoring='neg_mean_squared_error' и остальными параметрами по умолчанию) и на отложенной выборке?**"
   ]
  },
  {
   "cell_type": "code",
   "execution_count": 125,
   "metadata": {},
   "outputs": [
    {
     "data": {
      "text/html": [
       "<div>\n",
       "<style scoped>\n",
       "    .dataframe tbody tr th:only-of-type {\n",
       "        vertical-align: middle;\n",
       "    }\n",
       "\n",
       "    .dataframe tbody tr th {\n",
       "        vertical-align: top;\n",
       "    }\n",
       "\n",
       "    .dataframe thead th {\n",
       "        text-align: right;\n",
       "    }\n",
       "</style>\n",
       "<table border=\"1\" class=\"dataframe\">\n",
       "  <thead>\n",
       "    <tr style=\"text-align: right;\">\n",
       "      <th></th>\n",
       "      <th>fixed acidity</th>\n",
       "      <th>volatile acidity</th>\n",
       "      <th>citric acid</th>\n",
       "      <th>residual sugar</th>\n",
       "      <th>chlorides</th>\n",
       "      <th>free sulfur dioxide</th>\n",
       "      <th>total sulfur dioxide</th>\n",
       "      <th>density</th>\n",
       "      <th>pH</th>\n",
       "      <th>sulphates</th>\n",
       "      <th>alcohol</th>\n",
       "    </tr>\n",
       "  </thead>\n",
       "  <tbody>\n",
       "    <tr>\n",
       "      <th>4679</th>\n",
       "      <td>4.7</td>\n",
       "      <td>0.335</td>\n",
       "      <td>0.14</td>\n",
       "      <td>1.3</td>\n",
       "      <td>0.036</td>\n",
       "      <td>69.0</td>\n",
       "      <td>168.0</td>\n",
       "      <td>0.99212</td>\n",
       "      <td>3.47</td>\n",
       "      <td>0.46</td>\n",
       "      <td>10.5</td>\n",
       "    </tr>\n",
       "  </tbody>\n",
       "</table>\n",
       "</div>"
      ],
      "text/plain": [
       "      fixed acidity  volatile acidity  citric acid  residual sugar  chlorides  \\\n",
       "4679            4.7             0.335         0.14             1.3      0.036   \n",
       "\n",
       "      free sulfur dioxide  total sulfur dioxide  density    pH  sulphates  \\\n",
       "4679                 69.0                 168.0  0.99212  3.47       0.46   \n",
       "\n",
       "      alcohol  \n",
       "4679     10.5  "
      ]
     },
     "execution_count": 125,
     "metadata": {},
     "output_type": "execute_result"
    }
   ],
   "source": [
    "X.sample()"
   ]
  },
  {
   "cell_type": "code",
   "execution_count": 144,
   "metadata": {},
   "outputs": [],
   "source": [
    "rf_train_pred = forest.predict(X_train)\n",
    "rf_cv = cross_val_score(forest, X_train, y_train, scoring='neg_mean_squared_error')\n",
    "rf_test_pred = forest.predict(X_valid)"
   ]
  },
  {
   "cell_type": "code",
   "execution_count": 163,
   "metadata": {},
   "outputs": [
    {
     "name": "stdout",
     "output_type": "stream",
     "text": [
      "Mean squared error (train): 0.076\n",
      "Mean squared error (cv): -0.462\n",
      "Mean squared error (test): 0.422\n"
     ]
    }
   ],
   "source": [
    "print(\"Mean squared error (train): %.3f\" % mse(y_train, rf_train_pred))\n",
    "print(\"Mean squared error (cv): %.3f\" % rf_cv.mean())\n",
    "print(\"Mean squared error (test): %.3f\" % mse(y_valid, rf_test_pred))"
   ]
  },
  {
   "cell_type": "markdown",
   "metadata": {},
   "source": [
    "**Настройте параметры min_samples_leaf и max_depth с помощью GridSearchCV и опять проверьте качество модели на кросс-валидации и на отложенной выборке.**"
   ]
  },
  {
   "cell_type": "code",
   "execution_count": 165,
   "metadata": {},
   "outputs": [
    {
     "data": {
      "text/plain": [
       "GridSearchCV(cv='warn', error_score='raise-deprecating',\n",
       "       estimator=RandomForestRegressor(bootstrap=True, criterion='mse', max_depth=None,\n",
       "           max_features='auto', max_leaf_nodes=None,\n",
       "           min_impurity_decrease=0.0, min_impurity_split=None,\n",
       "           min_samples_leaf=1, min_samples_split=2,\n",
       "           min_weight_fraction_leaf=0.0, n_estimators=10, n_jobs=None,\n",
       "           oob_score=False, random_state=17, verbose=0, warm_start=False),\n",
       "       fit_params=None, iid='warn', n_jobs=None,\n",
       "       param_grid={'max_depth': [10, 11, 12, 13, 14, 15, 16, 17, 18, 19, 20, 21, 22, 23, 24], 'min_samples_leaf': [1, 2, 3, 4, 5, 6, 7], 'max_features': [6, 7, 8, 9, 10, 11]},\n",
       "       pre_dispatch='2*n_jobs', refit=True, return_train_score='warn',\n",
       "       scoring=None, verbose=0)"
      ]
     },
     "execution_count": 165,
     "metadata": {},
     "output_type": "execute_result"
    }
   ],
   "source": [
    "%time\n",
    "forest_params = {'max_depth': list(range(10, 25)), \n",
    "                 'min_samples_leaf': list(range(1, 8)),\n",
    "                 'max_features': list(range(6,12))}\n",
    "\n",
    "locally_best_forest = GridSearchCV(forest, forest_params)\n",
    "locally_best_forest.fit(X_train, y_train)"
   ]
  },
  {
   "cell_type": "code",
   "execution_count": 166,
   "metadata": {},
   "outputs": [
    {
     "data": {
      "text/plain": [
       "({'max_depth': 19, 'max_features': 6, 'min_samples_leaf': 1},\n",
       " 0.42144574416375985)"
      ]
     },
     "execution_count": 166,
     "metadata": {},
     "output_type": "execute_result"
    }
   ],
   "source": [
    "locally_best_forest.best_params_, locally_best_forest.best_score_"
   ]
  },
  {
   "cell_type": "code",
   "execution_count": 167,
   "metadata": {},
   "outputs": [],
   "source": [
    "%time\n",
    "locally_best_forest_train_pred = locally_best_forest.predict(X_train)\n",
    "locally_best_forest_cv = cross_val_score(locally_best_forest, X_train, y_train, scoring='neg_mean_squared_error')\n",
    "locally_best_forest_test_pred = locally_best_forest.predict(X_valid)"
   ]
  },
  {
   "cell_type": "code",
   "execution_count": 168,
   "metadata": {},
   "outputs": [
    {
     "name": "stdout",
     "output_type": "stream",
     "text": [
      "Mean squared error (train): 0.076\n",
      "Mean squared error (cv): -0.462\n",
      "Mean squared error (test): 0.422\n"
     ]
    }
   ],
   "source": [
    "print(\"Mean squared error (train): %.3f\" % mse(y_train, rf_train_pred))\n",
    "print(\"Mean squared error (cv): %.3f\" % rf_cv.mean())\n",
    "print(\"Mean squared error (test): %.3f\" % mse(y_valid, rf_test_pred))"
   ]
  },
  {
   "cell_type": "markdown",
   "metadata": {},
   "source": [
    "**К сожалению, результаты  GridSearchCV не полностью воспроизводимы (могут отличаться на разных платформах даже при фиксировании *random_state*). Поэтому обучите лес с параметрами max_depth=19, max_features=7, и min_samples_leaf=1 (лучшие в моем случае).**<br>\n",
    "**<font color='red'>Вопрос 6:</font> Каковы среднеквадратичные ошибки настроенного случайного леса на обучающей выборке, на кросс-валидации (cross_val_score с scoring='neg_mean_squared_error') и на отложенной выборке?**"
   ]
  },
  {
   "cell_type": "code",
   "execution_count": 186,
   "metadata": {},
   "outputs": [
    {
     "name": "stdout",
     "output_type": "stream",
     "text": [
      "CPU times: user 8 µs, sys: 0 ns, total: 8 µs\n",
      "Wall time: 15.5 µs\n"
     ]
    },
    {
     "data": {
      "text/plain": [
       "RandomForestRegressor(bootstrap=True, criterion='mse', max_depth=19,\n",
       "           max_features=7, max_leaf_nodes=None, min_impurity_decrease=0.0,\n",
       "           min_impurity_split=None, min_samples_leaf=1,\n",
       "           min_samples_split=2, min_weight_fraction_leaf=0.0,\n",
       "           n_estimators=10, n_jobs=None, oob_score=False, random_state=17,\n",
       "           verbose=0, warm_start=False)"
      ]
     },
     "execution_count": 186,
     "metadata": {},
     "output_type": "execute_result"
    }
   ],
   "source": [
    "%time\n",
    "forest_ = RandomForestRegressor(max_depth=19, max_features=7, min_samples_leaf=1, random_state=17)\n",
    "forest_.fit(X_train, y_train)"
   ]
  },
  {
   "cell_type": "code",
   "execution_count": 204,
   "metadata": {},
   "outputs": [
    {
     "name": "stdout",
     "output_type": "stream",
     "text": [
      "CPU times: user 8 µs, sys: 0 ns, total: 8 µs\n",
      "Wall time: 16.2 µs\n"
     ]
    }
   ],
   "source": [
    "%time\n",
    "forest_train_pred_ = forest_.predict(X_train)\n",
    "forest_cv_ = cross_val_score(forest_, X_train, y_train, scoring='neg_mean_squared_error')\n",
    "forest_test_pred_ = forest_.predict(X_valid)"
   ]
  },
  {
   "cell_type": "code",
   "execution_count": 205,
   "metadata": {},
   "outputs": [
    {
     "name": "stdout",
     "output_type": "stream",
     "text": [
      "Mean squared error (train): 0.084\n",
      "Mean squared error (cv): -0.456\n",
      "Mean squared error (test): 0.407\n"
     ]
    }
   ],
   "source": [
    "print(\"Mean squared error (train): %.3f\" % mse(y_train, forest_train_pred_))\n",
    "print(\"Mean squared error (cv): %.3f\" % forest_cv_.mean())\n",
    "print(\"Mean squared error (test): %.3f\" % mse(y_valid, forest_test_pred))"
   ]
  },
  {
   "cell_type": "markdown",
   "metadata": {},
   "source": [
    "**Оцените важность признаков с помощью случайного леса.**<br>\n",
    "**<font color='red'>Вопрос 7:</font> Какой признак оказался главным в настроенной модели случайного леса?**"
   ]
  },
  {
   "cell_type": "markdown",
   "metadata": {},
   "source": [
    "10 - alco"
   ]
  },
  {
   "cell_type": "code",
   "execution_count": 198,
   "metadata": {},
   "outputs": [
    {
     "data": {
      "text/html": [
       "<div>\n",
       "<style scoped>\n",
       "    .dataframe tbody tr th:only-of-type {\n",
       "        vertical-align: middle;\n",
       "    }\n",
       "\n",
       "    .dataframe tbody tr th {\n",
       "        vertical-align: top;\n",
       "    }\n",
       "\n",
       "    .dataframe thead th {\n",
       "        text-align: right;\n",
       "    }\n",
       "</style>\n",
       "<table border=\"1\" class=\"dataframe\">\n",
       "  <thead>\n",
       "    <tr style=\"text-align: right;\">\n",
       "      <th></th>\n",
       "      <th>9</th>\n",
       "      <th>2</th>\n",
       "      <th>0</th>\n",
       "      <th>4</th>\n",
       "      <th>7</th>\n",
       "      <th>3</th>\n",
       "      <th>6</th>\n",
       "      <th>8</th>\n",
       "      <th>5</th>\n",
       "      <th>1</th>\n",
       "      <th>10</th>\n",
       "    </tr>\n",
       "  </thead>\n",
       "  <tbody>\n",
       "    <tr>\n",
       "      <th>0</th>\n",
       "      <td>0.061184</td>\n",
       "      <td>0.062945</td>\n",
       "      <td>0.064268</td>\n",
       "      <td>0.067982</td>\n",
       "      <td>0.069367</td>\n",
       "      <td>0.07016</td>\n",
       "      <td>0.071318</td>\n",
       "      <td>0.072806</td>\n",
       "      <td>0.116147</td>\n",
       "      <td>0.119393</td>\n",
       "      <td>0.224432</td>\n",
       "    </tr>\n",
       "  </tbody>\n",
       "</table>\n",
       "</div>"
      ],
      "text/plain": [
       "         9         2         0         4         7        3         6   \\\n",
       "0  0.061184  0.062945  0.064268  0.067982  0.069367  0.07016  0.071318   \n",
       "\n",
       "         8         5         1         10  \n",
       "0  0.072806  0.116147  0.119393  0.224432  "
      ]
     },
     "execution_count": 198,
     "metadata": {},
     "output_type": "execute_result"
    }
   ],
   "source": [
    "rf_importance = pd.DataFrame(forest_.feature_importances_)\n",
    "rf_importance.sort_values(by=0).T"
   ]
  },
  {
   "cell_type": "markdown",
   "metadata": {},
   "source": [
    "**Сделайте выводы о качестве моделей и оценках влияния признаков на качество вина с помощью этих трех моделей.**"
   ]
  }
 ],
 "metadata": {
  "anaconda-cloud": {},
  "kernelspec": {
   "display_name": "Python 3",
   "language": "python",
   "name": "python3"
  },
  "language_info": {
   "codemirror_mode": {
    "name": "ipython",
    "version": 3
   },
   "file_extension": ".py",
   "mimetype": "text/x-python",
   "name": "python",
   "nbconvert_exporter": "python",
   "pygments_lexer": "ipython3",
   "version": "3.6.6"
  },
  "name": "lesson8_part1_kmeans.ipynb"
 },
 "nbformat": 4,
 "nbformat_minor": 1
}
