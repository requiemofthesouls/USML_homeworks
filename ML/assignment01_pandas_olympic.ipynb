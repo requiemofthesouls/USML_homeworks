{
 "cells": [
  {
   "cell_type": "markdown",
   "metadata": {},
   "source": [
    "<center>\n",
    "<img src=\"../../img/ods_stickers.jpg\" />\n",
    "    \n",
    "## [mlcourse.ai](mlcourse.ai) – Open Machine Learning Course \n",
    "Author: Arina Lopukhova (@erynn). Edited by [Yury Kashnitskiy](https://yorko.github.io) (@yorko). This material is subject to the terms and conditions of the [Creative Commons CC BY-NC-SA 4.0](https://creativecommons.org/licenses/by-nc-sa/4.0/) license. Free use is permitted for any non-commercial purpose."
   ]
  },
  {
   "cell_type": "markdown",
   "metadata": {},
   "source": [
    "<h1><center>Assignment #1. Fall 2018</center></h1>\n",
    "<h2><center>Exploratory data analysis of Olympic games with Pandas</center></h2>"
   ]
  },
  {
   "cell_type": "markdown",
   "metadata": {},
   "source": [
    "__There are ten questions about [120 years of Olympic history: athletes and results](https://www.kaggle.com/heesoo37/120-years-of-olympic-history-athletes-and-results/version/2) dataset in this task. Your task is to fill in the missing Python code and choose answers in [this web-form](https://docs.google.com/forms/d/179HYvlF_0x435CWdu2aOtR9a3flh0YCQXXNXhXaKw2M).__"
   ]
  },
  {
   "cell_type": "markdown",
   "metadata": {},
   "source": [
    "Download the file `athlete_events.csv` from [Kaggle page](https://www.kaggle.com/heesoo37/120-years-of-olympic-history-athletes-and-results). The dataset has the following features (copied from Kaggle):\n",
    "\n",
    "- __ID__ - Unique number for each athlete\n",
    "- __Name__ - Athlete's name\n",
    "- __Sex__ - M or F\n",
    "- __Age__ - Integer\n",
    "- __Height__ - In centimeters\n",
    "- __Weight__ - In kilograms\n",
    "- __Team__ - Team name\n",
    "- __NOC__ - National Olympic Committee 3-letter code\n",
    "- __Games__ - Year and season\n",
    "- __Year__ - Integer\n",
    "- __Season__ - Summer or Winter\n",
    "- __City__ - Host city\n",
    "- __Sport__ - Sport\n",
    "- __Event__ - Event\n",
    "- __Medal__ - Gold, Silver, Bronze, or NA"
   ]
  },
  {
   "cell_type": "code",
   "execution_count": 2,
   "metadata": {},
   "outputs": [],
   "source": [
    "import pandas as pd"
   ]
  },
  {
   "cell_type": "code",
   "execution_count": 3,
   "metadata": {},
   "outputs": [],
   "source": [
    "# Change the path to the dataset file if needed. \n",
    "PATH = '../../mlcourse.ai/data/athlete_events.csv'"
   ]
  },
  {
   "cell_type": "code",
   "execution_count": 17,
   "metadata": {},
   "outputs": [
    {
     "data": {
      "text/html": [
       "<div>\n",
       "<style scoped>\n",
       "    .dataframe tbody tr th:only-of-type {\n",
       "        vertical-align: middle;\n",
       "    }\n",
       "\n",
       "    .dataframe tbody tr th {\n",
       "        vertical-align: top;\n",
       "    }\n",
       "\n",
       "    .dataframe thead th {\n",
       "        text-align: right;\n",
       "    }\n",
       "</style>\n",
       "<table border=\"1\" class=\"dataframe\">\n",
       "  <thead>\n",
       "    <tr style=\"text-align: right;\">\n",
       "      <th></th>\n",
       "      <th>ID</th>\n",
       "      <th>Name</th>\n",
       "      <th>Sex</th>\n",
       "      <th>Age</th>\n",
       "      <th>Height</th>\n",
       "      <th>Weight</th>\n",
       "      <th>Team</th>\n",
       "      <th>NOC</th>\n",
       "      <th>Games</th>\n",
       "      <th>Year</th>\n",
       "      <th>Season</th>\n",
       "      <th>City</th>\n",
       "      <th>Sport</th>\n",
       "      <th>Event</th>\n",
       "      <th>Medal</th>\n",
       "    </tr>\n",
       "  </thead>\n",
       "  <tbody>\n",
       "    <tr>\n",
       "      <th>16575</th>\n",
       "      <td>8889</td>\n",
       "      <td>Ernest Henry Bayer</td>\n",
       "      <td>M</td>\n",
       "      <td>23.0</td>\n",
       "      <td>190.0</td>\n",
       "      <td>77.0</td>\n",
       "      <td>United States</td>\n",
       "      <td>USA</td>\n",
       "      <td>1928 Summer</td>\n",
       "      <td>1928</td>\n",
       "      <td>Summer</td>\n",
       "      <td>Amsterdam</td>\n",
       "      <td>Rowing</td>\n",
       "      <td>Rowing Men's Coxless Fours</td>\n",
       "      <td>Silver</td>\n",
       "    </tr>\n",
       "    <tr>\n",
       "      <th>66110</th>\n",
       "      <td>33827</td>\n",
       "      <td>Pawe Fajdek</td>\n",
       "      <td>M</td>\n",
       "      <td>27.0</td>\n",
       "      <td>186.0</td>\n",
       "      <td>126.0</td>\n",
       "      <td>Poland</td>\n",
       "      <td>POL</td>\n",
       "      <td>2016 Summer</td>\n",
       "      <td>2016</td>\n",
       "      <td>Summer</td>\n",
       "      <td>Rio de Janeiro</td>\n",
       "      <td>Athletics</td>\n",
       "      <td>Athletics Men's Hammer Throw</td>\n",
       "      <td>NaN</td>\n",
       "    </tr>\n",
       "    <tr>\n",
       "      <th>260649</th>\n",
       "      <td>130430</td>\n",
       "      <td>Katarina \"Kati\" Wilhelm</td>\n",
       "      <td>F</td>\n",
       "      <td>33.0</td>\n",
       "      <td>173.0</td>\n",
       "      <td>60.0</td>\n",
       "      <td>Germany</td>\n",
       "      <td>GER</td>\n",
       "      <td>2010 Winter</td>\n",
       "      <td>2010</td>\n",
       "      <td>Winter</td>\n",
       "      <td>Vancouver</td>\n",
       "      <td>Biathlon</td>\n",
       "      <td>Biathlon Women's 12.5 kilometres Mass Start</td>\n",
       "      <td>NaN</td>\n",
       "    </tr>\n",
       "    <tr>\n",
       "      <th>228288</th>\n",
       "      <td>114665</td>\n",
       "      <td>Ivo Stefanoni</td>\n",
       "      <td>M</td>\n",
       "      <td>24.0</td>\n",
       "      <td>165.0</td>\n",
       "      <td>55.0</td>\n",
       "      <td>Italy</td>\n",
       "      <td>ITA</td>\n",
       "      <td>1960 Summer</td>\n",
       "      <td>1960</td>\n",
       "      <td>Summer</td>\n",
       "      <td>Roma</td>\n",
       "      <td>Rowing</td>\n",
       "      <td>Rowing Men's Coxed Fours</td>\n",
       "      <td>Bronze</td>\n",
       "    </tr>\n",
       "    <tr>\n",
       "      <th>4013</th>\n",
       "      <td>2314</td>\n",
       "      <td>Markel Alberdi Sarobe</td>\n",
       "      <td>M</td>\n",
       "      <td>24.0</td>\n",
       "      <td>187.0</td>\n",
       "      <td>76.0</td>\n",
       "      <td>Spain</td>\n",
       "      <td>ESP</td>\n",
       "      <td>2016 Summer</td>\n",
       "      <td>2016</td>\n",
       "      <td>Summer</td>\n",
       "      <td>Rio de Janeiro</td>\n",
       "      <td>Swimming</td>\n",
       "      <td>Swimming Men's 4 x 100 metres Freestyle Relay</td>\n",
       "      <td>NaN</td>\n",
       "    </tr>\n",
       "  </tbody>\n",
       "</table>\n",
       "</div>"
      ],
      "text/plain": [
       "            ID                     Name Sex   Age  Height  Weight  \\\n",
       "16575     8889       Ernest Henry Bayer   M  23.0   190.0    77.0   \n",
       "66110    33827              Pawe Fajdek   M  27.0   186.0   126.0   \n",
       "260649  130430  Katarina \"Kati\" Wilhelm   F  33.0   173.0    60.0   \n",
       "228288  114665            Ivo Stefanoni   M  24.0   165.0    55.0   \n",
       "4013      2314    Markel Alberdi Sarobe   M  24.0   187.0    76.0   \n",
       "\n",
       "                 Team  NOC        Games  Year  Season            City  \\\n",
       "16575   United States  USA  1928 Summer  1928  Summer       Amsterdam   \n",
       "66110          Poland  POL  2016 Summer  2016  Summer  Rio de Janeiro   \n",
       "260649        Germany  GER  2010 Winter  2010  Winter       Vancouver   \n",
       "228288          Italy  ITA  1960 Summer  1960  Summer            Roma   \n",
       "4013            Spain  ESP  2016 Summer  2016  Summer  Rio de Janeiro   \n",
       "\n",
       "            Sport                                          Event   Medal  \n",
       "16575      Rowing                     Rowing Men's Coxless Fours  Silver  \n",
       "66110   Athletics                   Athletics Men's Hammer Throw     NaN  \n",
       "260649   Biathlon    Biathlon Women's 12.5 kilometres Mass Start     NaN  \n",
       "228288     Rowing                       Rowing Men's Coxed Fours  Bronze  \n",
       "4013     Swimming  Swimming Men's 4 x 100 metres Freestyle Relay     NaN  "
      ]
     },
     "execution_count": 17,
     "metadata": {},
     "output_type": "execute_result"
    }
   ],
   "source": [
    "df = pd.read_csv(PATH)\n",
    "df.sample(5)"
   ]
  },
  {
   "cell_type": "code",
   "execution_count": 5,
   "metadata": {},
   "outputs": [
    {
     "data": {
      "text/plain": [
       "Index(['ID', 'Name', 'Sex', 'Age', 'Height', 'Weight', 'Team', 'NOC', 'Games',\n",
       "       'Year', 'Season', 'City', 'Sport', 'Event', 'Medal'],\n",
       "      dtype='object')"
      ]
     },
     "execution_count": 5,
     "metadata": {},
     "output_type": "execute_result"
    }
   ],
   "source": [
    "df.columns"
   ]
  },
  {
   "cell_type": "code",
   "execution_count": 6,
   "metadata": {},
   "outputs": [
    {
     "data": {
      "text/plain": [
       "ID          int64\n",
       "Name       object\n",
       "Sex        object\n",
       "Age       float64\n",
       "Height    float64\n",
       "Weight    float64\n",
       "Team       object\n",
       "NOC        object\n",
       "Games      object\n",
       "Year        int64\n",
       "Season     object\n",
       "City       object\n",
       "Sport      object\n",
       "Event      object\n",
       "Medal      object\n",
       "dtype: object"
      ]
     },
     "execution_count": 6,
     "metadata": {},
     "output_type": "execute_result"
    }
   ],
   "source": [
    "df.dtypes"
   ]
  },
  {
   "cell_type": "code",
   "execution_count": 22,
   "metadata": {},
   "outputs": [
    {
     "data": {
      "text/plain": [
       "Athletics                38624\n",
       "Gymnastics               26707\n",
       "Swimming                 23195\n",
       "Shooting                 11448\n",
       "Cycling                  10859\n",
       "Fencing                  10735\n",
       "Rowing                   10595\n",
       "Cross Country Skiing      9133\n",
       "Alpine Skiing             8829\n",
       "Wrestling                 7154\n",
       "Football                  6745\n",
       "Sailing                   6586\n",
       "Equestrianism             6344\n",
       "Canoeing                  6171\n",
       "Boxing                    6047\n",
       "Speed Skating             5613\n",
       "Ice Hockey                5516\n",
       "Hockey                    5417\n",
       "Biathlon                  4893\n",
       "Basketball                4536\n",
       "Weightlifting             3937\n",
       "Water Polo                3846\n",
       "Judo                      3801\n",
       "Handball                  3665\n",
       "Art Competitions          3578\n",
       "Volleyball                3404\n",
       "Bobsleigh                 3058\n",
       "Tennis                    2862\n",
       "Diving                    2842\n",
       "Ski Jumping               2401\n",
       "                         ...  \n",
       "Badminton                 1457\n",
       "Nordic Combined           1344\n",
       "Freestyle Skiing           937\n",
       "Snowboarding               936\n",
       "Synchronized Swimming      909\n",
       "Baseball                   894\n",
       "Rhythmic Gymnastics        658\n",
       "Taekwondo                  606\n",
       "Beach Volleyball           564\n",
       "Triathlon                  529\n",
       "Softball                   478\n",
       "Curling                    463\n",
       "Rugby Sevens               299\n",
       "Golf                       247\n",
       "Skeleton                   199\n",
       "Tug-Of-War                 170\n",
       "Rugby                      162\n",
       "Trampolining               152\n",
       "Polo                        95\n",
       "Lacrosse                    60\n",
       "Alpinism                    25\n",
       "Military Ski Patrol         24\n",
       "Cricket                     24\n",
       "Croquet                     19\n",
       "Motorboating                17\n",
       "Racquets                    12\n",
       "Jeu De Paume                11\n",
       "Roque                        4\n",
       "Basque Pelota                2\n",
       "Aeronautics                  1\n",
       "Name: Sport, Length: 66, dtype: int64"
      ]
     },
     "execution_count": 22,
     "metadata": {},
     "output_type": "execute_result"
    }
   ],
   "source": [
    "df.Sport.value_counts()"
   ]
  },
  {
   "cell_type": "markdown",
   "metadata": {},
   "source": [
    "__1. How old were the youngest male and female participants of the 1996 Olympics?__\n",
    "\n",
    "- 16 and 15\n",
    "- 14 and 12 \n",
    "- 16 and 12\n",
    "- 13 and 11"
   ]
  },
  {
   "cell_type": "code",
   "execution_count": 7,
   "metadata": {},
   "outputs": [
    {
     "data": {
      "text/plain": [
       "(14.0, 12.0)"
      ]
     },
     "execution_count": 7,
     "metadata": {},
     "output_type": "execute_result"
    }
   ],
   "source": [
    "df[(df['Year'] == 1996) & (df['Sex'] == 'M')].min()[3], \\\n",
    "df[(df['Year'] == 1996) & (df['Sex'] == 'F')].min()[3]"
   ]
  },
  {
   "cell_type": "markdown",
   "metadata": {},
   "source": [
    "__2. What was the percentage of male gymnasts among all the male participants of the 2000 Olympics? Round the answer to the first decimal.__\n",
    "\n",
    "*Hint:* here and further if needed drop duplicated sportsmen to count only unique ones. \n",
    "\n",
    "- 0.2\n",
    "- 1.5 \n",
    "- 2.5\n",
    "- 7.7"
   ]
  },
  {
   "cell_type": "code",
   "execution_count": 15,
   "metadata": {},
   "outputs": [
    {
     "data": {
      "text/plain": [
       "0.2"
      ]
     },
     "execution_count": 15,
     "metadata": {},
     "output_type": "execute_result"
    }
   ],
   "source": [
    "round(len(df[(df['Sex'] == 'M') & (df['Sport'] == 'Gymnastics')].ID.unique()) / \n",
    "      len(df[df['Year'] == 2000].ID.unique()), 1)"
   ]
  },
  {
   "cell_type": "markdown",
   "metadata": {},
   "source": [
    "__3. What are the mean and standard deviation of height for female basketball players participated in the 2000 Olympics? Round the answer to the first decimal.__\n",
    "\n",
    "- 178.5 and 7.2\n",
    "- 179.4 and 10\n",
    "- 180.7 and 6.7\n",
    "- 182.4 and 9.1 "
   ]
  },
  {
   "cell_type": "code",
   "execution_count": 31,
   "metadata": {},
   "outputs": [
    {
     "data": {
      "text/plain": [
       "mean    182.4\n",
       "std       9.1\n",
       "Name: Height, dtype: float64"
      ]
     },
     "execution_count": 31,
     "metadata": {},
     "output_type": "execute_result"
    }
   ],
   "source": [
    "df[(df['Sex'] == 'F') & (df['Sport'] == 'Basketball') & (df['Year'] == 2000)].Height.agg(['mean', 'std']).round(1)"
   ]
  },
  {
   "cell_type": "markdown",
   "metadata": {},
   "source": [
    "__4. Find a sportsperson participated in the 2002 Olympics, with the highest weight among other participants of the same Olympics. What sport did he or she do?__\n",
    "\n",
    "- Judo\n",
    "- Bobsleigh \n",
    "- Weightlifting\n",
    "- Boxing"
   ]
  },
  {
   "cell_type": "code",
   "execution_count": 81,
   "metadata": {},
   "outputs": [
    {
     "data": {
      "text/plain": [
       "'Bobsleigh'"
      ]
     },
     "execution_count": 81,
     "metadata": {},
     "output_type": "execute_result"
    }
   ],
   "source": [
    "df[df['Year'] == 2002].sort_values('Weight', ascending=False).iloc[0].Sport"
   ]
  },
  {
   "cell_type": "markdown",
   "metadata": {},
   "source": [
    "__5. How many times did Pawe Abratkiewicz participate in the Olympics held in different years?__\n",
    "\n",
    "- 0\n",
    "- 1 \n",
    "- 2\n",
    "- 3 "
   ]
  },
  {
   "cell_type": "code",
   "execution_count": 75,
   "metadata": {},
   "outputs": [
    {
     "data": {
      "text/plain": [
       "1998    2\n",
       "2002    2\n",
       "1992    2\n",
       "Name: Year, dtype: int64"
      ]
     },
     "execution_count": 75,
     "metadata": {},
     "output_type": "execute_result"
    }
   ],
   "source": [
    "df[df['Name'] == 'Pawe Abratkiewicz']['Year'].value_counts() "
   ]
  },
  {
   "cell_type": "markdown",
   "metadata": {},
   "source": [
    "__6. How many silver medals in tennis did Australia win at the 2000 Olympics?__\n",
    "\n",
    "- 0\n",
    "- 1 \n",
    "- 2 \n",
    "- 3 "
   ]
  },
  {
   "cell_type": "code",
   "execution_count": 79,
   "metadata": {},
   "outputs": [
    {
     "data": {
      "text/html": [
       "<div>\n",
       "<style scoped>\n",
       "    .dataframe tbody tr th:only-of-type {\n",
       "        vertical-align: middle;\n",
       "    }\n",
       "\n",
       "    .dataframe tbody tr th {\n",
       "        vertical-align: top;\n",
       "    }\n",
       "\n",
       "    .dataframe thead th {\n",
       "        text-align: right;\n",
       "    }\n",
       "</style>\n",
       "<table border=\"1\" class=\"dataframe\">\n",
       "  <thead>\n",
       "    <tr style=\"text-align: right;\">\n",
       "      <th></th>\n",
       "      <th>ID</th>\n",
       "      <th>Name</th>\n",
       "      <th>Sex</th>\n",
       "      <th>Age</th>\n",
       "      <th>Height</th>\n",
       "      <th>Weight</th>\n",
       "      <th>Team</th>\n",
       "      <th>NOC</th>\n",
       "      <th>Games</th>\n",
       "      <th>Year</th>\n",
       "      <th>Season</th>\n",
       "      <th>City</th>\n",
       "      <th>Sport</th>\n",
       "      <th>Event</th>\n",
       "      <th>Medal</th>\n",
       "    </tr>\n",
       "  </thead>\n",
       "  <tbody>\n",
       "    <tr>\n",
       "      <th>262820</th>\n",
       "      <td>131504</td>\n",
       "      <td>Todd Andrew Woodbridge</td>\n",
       "      <td>M</td>\n",
       "      <td>29.0</td>\n",
       "      <td>178.0</td>\n",
       "      <td>75.0</td>\n",
       "      <td>Australia</td>\n",
       "      <td>AUS</td>\n",
       "      <td>2000 Summer</td>\n",
       "      <td>2000</td>\n",
       "      <td>Summer</td>\n",
       "      <td>Sydney</td>\n",
       "      <td>Tennis</td>\n",
       "      <td>Tennis Men's Doubles</td>\n",
       "      <td>Silver</td>\n",
       "    </tr>\n",
       "    <tr>\n",
       "      <th>262831</th>\n",
       "      <td>131511</td>\n",
       "      <td>Mark Raymond Woodforde</td>\n",
       "      <td>M</td>\n",
       "      <td>34.0</td>\n",
       "      <td>183.0</td>\n",
       "      <td>80.0</td>\n",
       "      <td>Australia</td>\n",
       "      <td>AUS</td>\n",
       "      <td>2000 Summer</td>\n",
       "      <td>2000</td>\n",
       "      <td>Summer</td>\n",
       "      <td>Sydney</td>\n",
       "      <td>Tennis</td>\n",
       "      <td>Tennis Men's Doubles</td>\n",
       "      <td>Silver</td>\n",
       "    </tr>\n",
       "  </tbody>\n",
       "</table>\n",
       "</div>"
      ],
      "text/plain": [
       "            ID                    Name Sex   Age  Height  Weight       Team  \\\n",
       "262820  131504  Todd Andrew Woodbridge   M  29.0   178.0    75.0  Australia   \n",
       "262831  131511  Mark Raymond Woodforde   M  34.0   183.0    80.0  Australia   \n",
       "\n",
       "        NOC        Games  Year  Season    City   Sport                 Event  \\\n",
       "262820  AUS  2000 Summer  2000  Summer  Sydney  Tennis  Tennis Men's Doubles   \n",
       "262831  AUS  2000 Summer  2000  Summer  Sydney  Tennis  Tennis Men's Doubles   \n",
       "\n",
       "         Medal  \n",
       "262820  Silver  \n",
       "262831  Silver  "
      ]
     },
     "execution_count": 79,
     "metadata": {},
     "output_type": "execute_result"
    }
   ],
   "source": [
    "df[(df['Team'] == 'Australia') & (df['Year'] == 2000) & (df['Sport'] == 'Tennis') & (df['Medal'] == 'Silver')]"
   ]
  },
  {
   "cell_type": "markdown",
   "metadata": {},
   "source": [
    "__7. Is it true that Switzerland won fewer medals than Serbia at the 2016 Olympics? Do not consider NaN values in _Medal_ column.__ \n",
    "\n",
    "- Yes \n",
    "- No"
   ]
  },
  {
   "cell_type": "code",
   "execution_count": 91,
   "metadata": {},
   "outputs": [
    {
     "data": {
      "text/plain": [
       "(11, 54)"
      ]
     },
     "execution_count": 91,
     "metadata": {},
     "output_type": "execute_result"
    }
   ],
   "source": [
    "df[(df['Team'] == 'Switzerland') & (df['Year'] == 2016) & (~df['Medal'].isna())].count()[0], \\\n",
    "df[(df['Team'] == 'Serbia') & (df['Year'] == 2016) & (~df['Medal'].isna())].count()[0]"
   ]
  },
  {
   "cell_type": "markdown",
   "metadata": {},
   "source": [
    "__8. What age category did the fewest and the most participants of the 2014 Olympics belong to?__\n",
    "- [45-55] and [25-35) correspondingly yep\n",
    "- [45-55] and [15-25) correspondingly\n",
    "- [35-45] and [25-35) correspondingly\n",
    "- [45-55] and [35-45) correspondingly"
   ]
  },
  {
   "cell_type": "code",
   "execution_count": 192,
   "metadata": {
    "collapsed": true
   },
   "outputs": [
    {
     "data": {
      "text/plain": [
       "Age\n",
       "15.0     10\n",
       "16.0     24\n",
       "17.0     58\n",
       "18.0    130\n",
       "19.0    142\n",
       "20.0    206\n",
       "21.0    280\n",
       "22.0    361\n",
       "23.0    396\n",
       "24.0    420\n",
       "25.0    395\n",
       "26.0    384\n",
       "27.0    363\n",
       "28.0    376\n",
       "29.0    282\n",
       "30.0    242\n",
       "31.0    201\n",
       "32.0    142\n",
       "33.0    135\n",
       "34.0     74\n",
       "35.0     82\n",
       "36.0     70\n",
       "37.0     30\n",
       "38.0     25\n",
       "39.0     14\n",
       "40.0     18\n",
       "41.0     14\n",
       "42.0      6\n",
       "43.0      3\n",
       "44.0      3\n",
       "45.0      1\n",
       "46.0      1\n",
       "47.0      1\n",
       "48.0      1\n",
       "55.0      1\n",
       "Name: ID, dtype: int64"
      ]
     },
     "execution_count": 192,
     "metadata": {},
     "output_type": "execute_result"
    }
   ],
   "source": [
    "participants = df[df['Year'] == 2014].groupby('Age').count().ID\n",
    "participants"
   ]
  },
  {
   "cell_type": "code",
   "execution_count": 195,
   "metadata": {},
   "outputs": [],
   "source": [
    "cat_15_25 = participants.iloc[0:11].sum()\n",
    "cat_25_35 = participants.iloc[10:21].sum()\n",
    "cat_35_45 = participants.iloc[20:31].sum()\n",
    "cat_45_55 = participants.iloc[30:41].sum()"
   ]
  },
  {
   "cell_type": "code",
   "execution_count": 196,
   "metadata": {},
   "outputs": [
    {
     "data": {
      "text/plain": [
       "(2422, 2676, 266, 5)"
      ]
     },
     "execution_count": 196,
     "metadata": {},
     "output_type": "execute_result"
    }
   ],
   "source": [
    "cat_15_25, cat_25_35, cat_35_45, cat_45_55"
   ]
  },
  {
   "cell_type": "markdown",
   "metadata": {},
   "source": [
    "__9. Is it true that there were Summer Olympics held in Lake Placid? Is it true that there were Winter Olympics held in Sankt Moritz?__\n",
    "\n",
    "- Yes, Yes\n",
    "- Yes, No\n",
    "- No, Yes \n",
    "- No, No "
   ]
  },
  {
   "cell_type": "code",
   "execution_count": 206,
   "metadata": {},
   "outputs": [
    {
     "data": {
      "text/plain": [
       "(0, 1657)"
      ]
     },
     "execution_count": 206,
     "metadata": {},
     "output_type": "execute_result"
    }
   ],
   "source": [
    "df[(df['Season'] == 'Summer') & (df['City'] == 'Lake Placid')].count()[0], \\\n",
    "df[(df['Season'] == 'Winter') & (df['City'] == 'Sankt Moritz')].count()[0]"
   ]
  },
  {
   "cell_type": "markdown",
   "metadata": {},
   "source": [
    "__10. What is the absolute difference between the number of unique sports at the 1995 Olympics and 2016 Olympics?__\n",
    "\n",
    "- 16\n",
    "- 24\n",
    "- 26\n",
    "- 34"
   ]
  },
  {
   "cell_type": "code",
   "execution_count": 220,
   "metadata": {},
   "outputs": [
    {
     "data": {
      "text/plain": [
       "34"
      ]
     },
     "execution_count": 220,
     "metadata": {},
     "output_type": "execute_result"
    }
   ],
   "source": [
    "len(df[df['Year'] == 2016].Sport.unique())"
   ]
  }
 ],
 "metadata": {
  "kernelspec": {
   "display_name": "Python 3",
   "language": "python",
   "name": "python3"
  },
  "language_info": {
   "codemirror_mode": {
    "name": "ipython",
    "version": 3
   },
   "file_extension": ".py",
   "mimetype": "text/x-python",
   "name": "python",
   "nbconvert_exporter": "python",
   "pygments_lexer": "ipython3",
   "version": "3.6.6"
  }
 },
 "nbformat": 4,
 "nbformat_minor": 2
}
